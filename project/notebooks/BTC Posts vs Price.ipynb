{
 "cells": [
  {
   "cell_type": "code",
   "execution_count": 67,
   "metadata": {},
   "outputs": [
    {
     "name": "stdout",
     "output_type": "stream",
     "text": [
      "The autoreload extension is already loaded. To reload it, use:\n",
      "  %reload_ext autoreload\n",
      "Requirement already satisfied: seaborn in /env/lib/python3.6/site-packages (0.9.0)\n",
      "Collecting as\n",
      "\u001b[31m  Could not find a version that satisfies the requirement as (from versions: )\u001b[0m\n",
      "\u001b[31mNo matching distribution found for as\u001b[0m\n",
      "Requirement already satisfied: lxml in /env/lib/python3.6/site-packages (4.2.4)\n"
     ]
    }
   ],
   "source": [
    "%load_ext autoreload\n",
    "\n",
    "# always reload modules marked with \"%aimport\"\n",
    "%autoreload 2\n",
    "\n",
    "!pip install seaborn as sns\n",
    "!pip install lxml\n",
    "import os\n",
    "import sys\n",
    "import argparse\n",
    "import csv\n",
    "import requests\n",
    "import time\n",
    "from bs4 import BeautifulSoup\n",
    "\n",
    "from concurrent.futures import ThreadPoolExecutor\n",
    "import collections\n",
    "\n",
    "import bbscraper.scraper\n",
    "import pandas as pd\n",
    "\n",
    "import matplotlib\n"
   ]
  },
  {
   "cell_type": "code",
   "execution_count": 2,
   "metadata": {},
   "outputs": [],
   "source": [
    "forums = {1: \"Investing - Help with Personal Investments\", 10: \"Investing - Theory, News & General\",\n",
    "          2: \"Personal Finance\"}\n"
   ]
  },
  {
   "cell_type": "code",
   "execution_count": 6,
   "metadata": {},
   "outputs": [],
   "source": [
    "class RequestError(Exception):\n",
    "    pass\n",
    "\n",
    "\n",
    "class BogleheadsForumWalker(object):\n",
    "\n",
    "    BOGLEHEADS_URL_BASE = 'https://www.bogleheads.org/forum/viewforum.php'\n",
    "\n",
    "    def __init__(self, forum_id, max_topics=None, url_base=None):\n",
    "        \"\"\"Get object to walk topics of a Bogleheads forum.\"\"\"\n",
    "        self.forum_id = forum_id\n",
    "        self._max_topics = max_topics\n",
    "        self.url_base = url_base or self.BOGLEHEADS_URL_BASE\n",
    "\n",
    "    @property\n",
    "    def n_topics(self):\n",
    "        \"\"\"Return the number of topics in a forum.\"\"\"\n",
    "        return self._max_topics\n",
    "\n",
    "    def get_all_topics(self, sleep=1):\n",
    "        \"\"\"Yield a generator of all topics for a forum.\"\"\"\n",
    "        with ThreadPoolExecutor(max_workers=1) as executor:\n",
    "            for start in range(0, self.n_topics, 50):\n",
    "                # run sleep in the background so we can do work in the interim and still \"keep the clock running\"\n",
    "                future = executor.submit(time.sleep, sleep)\n",
    "                for topic in self.topics_from_start(start):\n",
    "                    yield topic\n",
    "                future.result()\n",
    "\n",
    "    def _get_page(self, start):\n",
    "        \"\"\"Get a soup object for a page, defined by the start number.\"\"\"\n",
    "        res = requests.get(self.url_base, params=dict(f=self.forum_id, start=start))\n",
    "        if not res.ok:\n",
    "            raise RequestError\n",
    "        soup = BeautifulSoup(res.content)\n",
    "        return soup\n",
    "\n",
    "    def topics_from_soup(self, soup):\n",
    "        \"\"\"Get a list of topics from a soup object taken from a page.\"\"\"\n",
    "        \n",
    "        # FINDS THE 'a' Tag with the class .topictitle\n",
    "        topic_tags = soup.find_all('a', attrs={\"class\": 'topictitle'})\n",
    "        # filter out announcements, because they are on every page\n",
    "        for tag in topic_tags:\n",
    "            if not tag.findParents(attrs={\"class\": 'announce'}):\n",
    "                yield tag\n",
    "\n",
    "    def topics_from_start(self, start):\n",
    "        \"\"\"Return all topics from a page defined by a start.\"\"\"\n",
    "        soup = self._get_page(start)\n",
    "        return self.topics_from_soup(soup)"
   ]
  },
  {
   "cell_type": "code",
   "execution_count": 7,
   "metadata": {},
   "outputs": [
    {
     "name": "stdout",
     "output_type": "stream",
     "text": [
      "5000\n",
      "10000\n",
      "15000\n",
      "20000\n",
      "25000\n",
      "30000\n",
      "35000\n",
      "40000\n",
      "45000\n",
      "50000\n",
      "55000\n"
     ]
    }
   ],
   "source": [
    "walker = BogleheadsForumWalker(10, max_topics = 55527)\n",
    "all_topics = []\n",
    "with open('/data/topics2.txt', 'w', 1) as fil:\n",
    "    topic_cnt = 0\n",
    "    for topic in walker.get_all_topics(sleep=1):\n",
    "        topic_cnt += 1\n",
    "        fil.write(str(topic) + \"\\n\")\n",
    "        all_topics.append(topic)\n",
    "        if topic_cnt % 5000 == 0:\n",
    "            print(topic_cnt)"
   ]
  },
  {
   "cell_type": "code",
   "execution_count": 8,
   "metadata": {},
   "outputs": [
    {
     "data": {
      "text/plain": [
       "55477"
      ]
     },
     "execution_count": 8,
     "metadata": {},
     "output_type": "execute_result"
    }
   ],
   "source": [
    "len(all_topics)"
   ]
  },
  {
   "cell_type": "code",
   "execution_count": 10,
   "metadata": {},
   "outputs": [],
   "source": [
    "with open(\"/data/topics2.txt\") as fil:\n",
    "    dat = fil.read()\n",
    "    \n",
    "all_topics = [BeautifulSoup(line).find(\"a\") for line in dat.split(\"\\n\")]\n",
    "all_topics = all_topics[:-1]"
   ]
  },
  {
   "cell_type": "code",
   "execution_count": 11,
   "metadata": {},
   "outputs": [],
   "source": [
    "BTC_KEYWORDS = set(['BITCOIN', 'ETHEREUM', 'CRYPTOCURRENCY', 'CRYPTOS',\n",
    "                    'COINBASE', 'LITECOIN', 'BLOCKCHAIN'])"
   ]
  },
  {
   "cell_type": "code",
   "execution_count": 12,
   "metadata": {},
   "outputs": [],
   "source": [
    "btc_topics = [topic for topic in all_topics \n",
    "              if any(kw.upper() in topic.text.upper() for kw in BTC_KEYWORDS)]"
   ]
  },
  {
   "cell_type": "code",
   "execution_count": 71,
   "metadata": {},
   "outputs": [
    {
     "data": {
      "text/plain": [
       "121"
      ]
     },
     "execution_count": 71,
     "metadata": {},
     "output_type": "execute_result"
    }
   ],
   "source": [
    "len(btc_topics)"
   ]
  },
  {
   "cell_type": "code",
   "execution_count": 14,
   "metadata": {},
   "outputs": [],
   "source": [
    "btc_posts = []\n",
    "s = bbscraper.scraper.Scraper()\n",
    "for i, topic in enumerate(btc_topics):\n",
    "    time.sleep(2)\n",
    "    for post in s.scrape('http://bogleheads.org/forum' + topic['href'][1:]):\n",
    "        d = {\"topic\": topic}\n",
    "        d.update(dict(zip(['id', 'author', 'time', 'content'], post)))\n",
    "        btc_posts.append(d)\n"
   ]
  },
  {
   "cell_type": "code",
   "execution_count": 22,
   "metadata": {},
   "outputs": [],
   "source": [
    "df = pd.DataFrame(btc_posts)\n",
    "df['time'] = pd.to_datetime(df['time'])"
   ]
  },
  {
   "cell_type": "code",
   "execution_count": 72,
   "metadata": {},
   "outputs": [
    {
     "data": {
      "text/plain": [
       "(3355, 5)"
      ]
     },
     "execution_count": 72,
     "metadata": {},
     "output_type": "execute_result"
    }
   ],
   "source": [
    "df.shape"
   ]
  },
  {
   "cell_type": "code",
   "execution_count": 23,
   "metadata": {
    "scrolled": true
   },
   "outputs": [
    {
     "data": {
      "text/html": [
       "<div>\n",
       "<style scoped>\n",
       "    .dataframe tbody tr th:only-of-type {\n",
       "        vertical-align: middle;\n",
       "    }\n",
       "\n",
       "    .dataframe tbody tr th {\n",
       "        vertical-align: top;\n",
       "    }\n",
       "\n",
       "    .dataframe thead th {\n",
       "        text-align: right;\n",
       "    }\n",
       "</style>\n",
       "<table border=\"1\" class=\"dataframe\">\n",
       "  <thead>\n",
       "    <tr style=\"text-align: right;\">\n",
       "      <th></th>\n",
       "      <th>author</th>\n",
       "      <th>content</th>\n",
       "      <th>id</th>\n",
       "      <th>time</th>\n",
       "      <th>topic</th>\n",
       "    </tr>\n",
       "  </thead>\n",
       "  <tbody>\n",
       "    <tr>\n",
       "      <th>0</th>\n",
       "      <td>jalbert</td>\n",
       "      <td>If investing in bitcoin is too conventional fo...</td>\n",
       "      <td>3986135</td>\n",
       "      <td>2018-06-23 00:34:00</td>\n",
       "      <td>&lt;a class=\"topictitle\" href=\"./viewtopic.php?f=...</td>\n",
       "    </tr>\n",
       "    <tr>\n",
       "      <th>1</th>\n",
       "      <td>hilink73</td>\n",
       "      <td>jalbert wrote: ↑Sat Jun 23, 2018 12:34 am\\nIf ...</td>\n",
       "      <td>3986151</td>\n",
       "      <td>2018-06-23 02:25:00</td>\n",
       "      <td>&lt;a class=\"topictitle\" href=\"./viewtopic.php?f=...</td>\n",
       "    </tr>\n",
       "    <tr>\n",
       "      <th>2</th>\n",
       "      <td>hilink73</td>\n",
       "      <td>jalbert wrote: ↑Sat Jun 23, 2018 12:34 am\\nIf ...</td>\n",
       "      <td>3987449</td>\n",
       "      <td>2018-06-24 00:30:00</td>\n",
       "      <td>&lt;a class=\"topictitle\" href=\"./viewtopic.php?f=...</td>\n",
       "    </tr>\n",
       "    <tr>\n",
       "      <th>3</th>\n",
       "      <td>trope</td>\n",
       "      <td>hilink73 wrote: ↑Sun Jun 24, 2018 12:30 am\\nja...</td>\n",
       "      <td>3988070</td>\n",
       "      <td>2018-06-24 13:23:00</td>\n",
       "      <td>&lt;a class=\"topictitle\" href=\"./viewtopic.php?f=...</td>\n",
       "    </tr>\n",
       "    <tr>\n",
       "      <th>4</th>\n",
       "      <td>trope</td>\n",
       "      <td>jalbert wrote: ↑Sat Jun 23, 2018 12:34 am\\nIf ...</td>\n",
       "      <td>3988071</td>\n",
       "      <td>2018-06-24 13:24:00</td>\n",
       "      <td>&lt;a class=\"topictitle\" href=\"./viewtopic.php?f=...</td>\n",
       "    </tr>\n",
       "  </tbody>\n",
       "</table>\n",
       "</div>"
      ],
      "text/plain": [
       "     author                                            content       id  \\\n",
       "0   jalbert  If investing in bitcoin is too conventional fo...  3986135   \n",
       "1  hilink73  jalbert wrote: ↑Sat Jun 23, 2018 12:34 am\\nIf ...  3986151   \n",
       "2  hilink73  jalbert wrote: ↑Sat Jun 23, 2018 12:34 am\\nIf ...  3987449   \n",
       "3     trope  hilink73 wrote: ↑Sun Jun 24, 2018 12:30 am\\nja...  3988070   \n",
       "4     trope  jalbert wrote: ↑Sat Jun 23, 2018 12:34 am\\nIf ...  3988071   \n",
       "\n",
       "                 time                                              topic  \n",
       "0 2018-06-23 00:34:00  <a class=\"topictitle\" href=\"./viewtopic.php?f=...  \n",
       "1 2018-06-23 02:25:00  <a class=\"topictitle\" href=\"./viewtopic.php?f=...  \n",
       "2 2018-06-24 00:30:00  <a class=\"topictitle\" href=\"./viewtopic.php?f=...  \n",
       "3 2018-06-24 13:23:00  <a class=\"topictitle\" href=\"./viewtopic.php?f=...  \n",
       "4 2018-06-24 13:24:00  <a class=\"topictitle\" href=\"./viewtopic.php?f=...  "
      ]
     },
     "execution_count": 23,
     "metadata": {},
     "output_type": "execute_result"
    }
   ],
   "source": [
    "df.head()\n",
    "\n"
   ]
  },
  {
   "cell_type": "code",
   "execution_count": 24,
   "metadata": {},
   "outputs": [
    {
     "data": {
      "text/plain": [
       "<matplotlib.axes._subplots.AxesSubplot at 0x7f5ac5aab358>"
      ]
     },
     "execution_count": 24,
     "metadata": {},
     "output_type": "execute_result"
    },
    {
     "data": {
      "image/png": "[encoded data removed]",
      "text/plain": [
       "<Figure size 432x288 with 1 Axes>"
      ]
     },
     "metadata": {},
     "output_type": "display_data"
    }
   ],
   "source": [
    "%matplotlib inline\n",
    "df.time.apply(lambda dt: dt.date()).value_counts().plot()"
   ]
  },
  {
   "cell_type": "code",
   "execution_count": 32,
   "metadata": {},
   "outputs": [
    {
     "data": {
      "text/html": [
       "<div>\n",
       "<style scoped>\n",
       "    .dataframe tbody tr th:only-of-type {\n",
       "        vertical-align: middle;\n",
       "    }\n",
       "\n",
       "    .dataframe tbody tr th {\n",
       "        vertical-align: top;\n",
       "    }\n",
       "\n",
       "    .dataframe thead th {\n",
       "        text-align: right;\n",
       "    }\n",
       "</style>\n",
       "<table border=\"1\" class=\"dataframe\">\n",
       "  <thead>\n",
       "    <tr style=\"text-align: right;\">\n",
       "      <th></th>\n",
       "      <th>Date</th>\n",
       "      <th>Open*</th>\n",
       "      <th>High</th>\n",
       "      <th>Low</th>\n",
       "      <th>Close**</th>\n",
       "      <th>Volume</th>\n",
       "      <th>Market Cap</th>\n",
       "      <th>time</th>\n",
       "    </tr>\n",
       "  </thead>\n",
       "  <tbody>\n",
       "    <tr>\n",
       "      <th>0</th>\n",
       "      <td>Aug 26, 2018</td>\n",
       "      <td>6754.64</td>\n",
       "      <td>6774.75</td>\n",
       "      <td>6620.75</td>\n",
       "      <td>6707.26</td>\n",
       "      <td>3295500000</td>\n",
       "      <td>116387236698</td>\n",
       "      <td>2018-08-26</td>\n",
       "    </tr>\n",
       "    <tr>\n",
       "      <th>1</th>\n",
       "      <td>Aug 25, 2018</td>\n",
       "      <td>6719.95</td>\n",
       "      <td>6789.63</td>\n",
       "      <td>6700.96</td>\n",
       "      <td>6763.19</td>\n",
       "      <td>3312600000</td>\n",
       "      <td>115778181501</td>\n",
       "      <td>2018-08-25</td>\n",
       "    </tr>\n",
       "    <tr>\n",
       "      <th>2</th>\n",
       "      <td>Aug 24, 2018</td>\n",
       "      <td>6551.52</td>\n",
       "      <td>6719.96</td>\n",
       "      <td>6498.64</td>\n",
       "      <td>6719.96</td>\n",
       "      <td>4097820000</td>\n",
       "      <td>112864138781</td>\n",
       "      <td>2018-08-24</td>\n",
       "    </tr>\n",
       "    <tr>\n",
       "      <th>3</th>\n",
       "      <td>Aug 23, 2018</td>\n",
       "      <td>6371.34</td>\n",
       "      <td>6546.54</td>\n",
       "      <td>6371.34</td>\n",
       "      <td>6534.88</td>\n",
       "      <td>3426180000</td>\n",
       "      <td>109748424726</td>\n",
       "      <td>2018-08-23</td>\n",
       "    </tr>\n",
       "    <tr>\n",
       "      <th>4</th>\n",
       "      <td>Aug 22, 2018</td>\n",
       "      <td>6486.25</td>\n",
       "      <td>6816.79</td>\n",
       "      <td>6310.11</td>\n",
       "      <td>6376.71</td>\n",
       "      <td>4668110000</td>\n",
       "      <td>111714827567</td>\n",
       "      <td>2018-08-22</td>\n",
       "    </tr>\n",
       "  </tbody>\n",
       "</table>\n",
       "</div>"
      ],
      "text/plain": [
       "           Date    Open*     High      Low  Close**      Volume    Market Cap  \\\n",
       "0  Aug 26, 2018  6754.64  6774.75  6620.75  6707.26  3295500000  116387236698   \n",
       "1  Aug 25, 2018  6719.95  6789.63  6700.96  6763.19  3312600000  115778181501   \n",
       "2  Aug 24, 2018  6551.52  6719.96  6498.64  6719.96  4097820000  112864138781   \n",
       "3  Aug 23, 2018  6371.34  6546.54  6371.34  6534.88  3426180000  109748424726   \n",
       "4  Aug 22, 2018  6486.25  6816.79  6310.11  6376.71  4668110000  111714827567   \n",
       "\n",
       "        time  \n",
       "0 2018-08-26  \n",
       "1 2018-08-25  \n",
       "2 2018-08-24  \n",
       "3 2018-08-23  \n",
       "4 2018-08-22  "
      ]
     },
     "execution_count": 32,
     "metadata": {},
     "output_type": "execute_result"
    }
   ],
   "source": [
    "btc_prices = pd.read_html(\"https://coinmarketcap.com/currencies/bitcoin/historical-data/?start=20130428&end=20180827\", match='Volume', flavor='bs4')\n",
    "btc_prices = btc_prices[0]\n",
    "btc_prices['time'] = pd.to_datetime(btc_prices[\"Date\"])\n",
    "btc_prices.head()"
   ]
  },
  {
   "cell_type": "code",
   "execution_count": 54,
   "metadata": {},
   "outputs": [],
   "source": [
    "price_vs_post = pd.concat([btc_prices.set_index('time')['Close**'].rename(\"BTC Close\"), \n",
    "           df.time.apply(lambda dt: dt.date()).value_counts().rename('n_posts')], axis=1).dropna(subset=['BTC Close']).fillna(0)"
   ]
  },
  {
   "cell_type": "code",
   "execution_count": 55,
   "metadata": {},
   "outputs": [
    {
     "data": {
      "text/html": [
       "<div>\n",
       "<style scoped>\n",
       "    .dataframe tbody tr th:only-of-type {\n",
       "        vertical-align: middle;\n",
       "    }\n",
       "\n",
       "    .dataframe tbody tr th {\n",
       "        vertical-align: top;\n",
       "    }\n",
       "\n",
       "    .dataframe thead th {\n",
       "        text-align: right;\n",
       "    }\n",
       "</style>\n",
       "<table border=\"1\" class=\"dataframe\">\n",
       "  <thead>\n",
       "    <tr style=\"text-align: right;\">\n",
       "      <th></th>\n",
       "      <th>BTC Close</th>\n",
       "      <th>n_posts</th>\n",
       "    </tr>\n",
       "  </thead>\n",
       "  <tbody>\n",
       "    <tr>\n",
       "      <th>2013-04-28</th>\n",
       "      <td>134.21</td>\n",
       "      <td>0.0</td>\n",
       "    </tr>\n",
       "    <tr>\n",
       "      <th>2013-04-29</th>\n",
       "      <td>144.54</td>\n",
       "      <td>0.0</td>\n",
       "    </tr>\n",
       "    <tr>\n",
       "      <th>2013-04-30</th>\n",
       "      <td>139.00</td>\n",
       "      <td>0.0</td>\n",
       "    </tr>\n",
       "    <tr>\n",
       "      <th>2013-05-01</th>\n",
       "      <td>116.99</td>\n",
       "      <td>0.0</td>\n",
       "    </tr>\n",
       "    <tr>\n",
       "      <th>2013-05-02</th>\n",
       "      <td>105.21</td>\n",
       "      <td>0.0</td>\n",
       "    </tr>\n",
       "  </tbody>\n",
       "</table>\n",
       "</div>"
      ],
      "text/plain": [
       "            BTC Close  n_posts\n",
       "2013-04-28     134.21      0.0\n",
       "2013-04-29     144.54      0.0\n",
       "2013-04-30     139.00      0.0\n",
       "2013-05-01     116.99      0.0\n",
       "2013-05-02     105.21      0.0"
      ]
     },
     "execution_count": 55,
     "metadata": {},
     "output_type": "execute_result"
    }
   ],
   "source": [
    "price_vs_post.head()"
   ]
  },
  {
   "cell_type": "code",
   "execution_count": 66,
   "metadata": {},
   "outputs": [
    {
     "data": {
      "text/plain": [
       "<matplotlib.axes._subplots.AxesSubplot at 0x7f5ae9a54400>"
      ]
     },
     "execution_count": 66,
     "metadata": {},
     "output_type": "execute_result"
    },
    {
     "data": {
      "image/png": "[encoded data removed]",
      "text/plain": [
       "<Figure size 1152x648 with 2 Axes>"
      ]
     },
     "metadata": {},
     "output_type": "display_data"
    }
   ],
   "source": [
    "price_vs_post.rolling(90).mean().plot(secondary_y=('n_posts',), figsize=(16, 9))"
   ]
  },
  {
   "cell_type": "code",
   "execution_count": null,
   "metadata": {},
   "outputs": [],
   "source": []
  }
 ],
 "metadata": {
  "kernelspec": {
   "display_name": "Python 3",
   "language": "python",
   "name": "python3"
  },
  "language_info": {
   "codemirror_mode": {
    "name": "ipython",
    "version": 3
   },
   "file_extension": ".py",
   "mimetype": "text/x-python",
   "name": "python",
   "nbconvert_exporter": "python",
   "pygments_lexer": "ipython3",
   "version": "3.6.5"
  }
 },
 "nbformat": 4,
 "nbformat_minor": 2
}
